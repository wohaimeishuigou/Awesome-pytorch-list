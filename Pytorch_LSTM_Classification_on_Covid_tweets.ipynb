{
  "cells": [
    {
      "cell_type": "markdown",
      "metadata": {
        "id": "view-in-github",
        "colab_type": "text"
      },
      "source": [
        "<a href=\"https://colab.research.google.com/github/wohaimeishuigou/Awesome-pytorch-list/blob/master/Pytorch_LSTM_Classification_on_Covid_tweets.ipynb\" target=\"_parent\"><img src=\"https://colab.research.google.com/assets/colab-badge.svg\" alt=\"Open In Colab\"/></a>"
      ]
    },
    {
      "cell_type": "code",
      "execution_count": null,
      "metadata": {
        "colab": {
          "background_save": true,
          "base_uri": "https://localhost:8080/"
        },
        "id": "u-gcp8jZ9dMx",
        "outputId": "63e93cd3-b39f-4177-a9a7-7db83a12d19d"
      },
      "outputs": [
        {
          "name": "stdout",
          "output_type": "stream",
          "text": [
            "Collecting transformers\n",
            "  Downloading transformers-4.15.0-py3-none-any.whl (3.4 MB)\n",
            "\u001b[K     |████████████████████████████████| 3.4 MB 28.0 MB/s \n",
            "\u001b[?25hCollecting datasets\n",
            "  Downloading datasets-1.18.1-py3-none-any.whl (311 kB)\n",
            "\u001b[K     |████████████████████████████████| 311 kB 46.2 MB/s \n",
            "\u001b[?25hCollecting sacremoses\n",
            "  Downloading sacremoses-0.0.47-py2.py3-none-any.whl (895 kB)\n",
            "\u001b[K     |████████████████████████████████| 895 kB 29.1 MB/s \n",
            "\u001b[?25hRequirement already satisfied: requests in /usr/local/lib/python3.7/dist-packages (from transformers) (2.23.0)\n",
            "Requirement already satisfied: tqdm>=4.27 in /usr/local/lib/python3.7/dist-packages (from transformers) (4.62.3)\n",
            "Requirement already satisfied: regex!=2019.12.17 in /usr/local/lib/python3.7/dist-packages (from transformers) (2019.12.20)\n",
            "Requirement already satisfied: packaging>=20.0 in /usr/local/lib/python3.7/dist-packages (from transformers) (21.3)\n",
            "Collecting tokenizers<0.11,>=0.10.1\n",
            "  Downloading tokenizers-0.10.3-cp37-cp37m-manylinux_2_5_x86_64.manylinux1_x86_64.manylinux_2_12_x86_64.manylinux2010_x86_64.whl (3.3 MB)\n",
            "\u001b[K     |████████████████████████████████| 3.3 MB 34.6 MB/s \n",
            "\u001b[?25hRequirement already satisfied: filelock in /usr/local/lib/python3.7/dist-packages (from transformers) (3.4.2)\n",
            "Collecting huggingface-hub<1.0,>=0.1.0\n",
            "  Downloading huggingface_hub-0.4.0-py3-none-any.whl (67 kB)\n",
            "\u001b[K     |████████████████████████████████| 67 kB 4.8 MB/s \n",
            "\u001b[?25hRequirement already satisfied: importlib-metadata in /usr/local/lib/python3.7/dist-packages (from transformers) (4.10.0)\n",
            "Collecting pyyaml>=5.1\n",
            "  Downloading PyYAML-6.0-cp37-cp37m-manylinux_2_5_x86_64.manylinux1_x86_64.manylinux_2_12_x86_64.manylinux2010_x86_64.whl (596 kB)\n",
            "\u001b[K     |████████████████████████████████| 596 kB 45.6 MB/s \n",
            "\u001b[?25hRequirement already satisfied: numpy>=1.17 in /usr/local/lib/python3.7/dist-packages (from transformers) (1.19.5)\n",
            "Requirement already satisfied: typing-extensions>=3.7.4.3 in /usr/local/lib/python3.7/dist-packages (from huggingface-hub<1.0,>=0.1.0->transformers) (3.10.0.2)\n",
            "Requirement already satisfied: pyparsing!=3.0.5,>=2.0.2 in /usr/local/lib/python3.7/dist-packages (from packaging>=20.0->transformers) (3.0.6)\n",
            "Requirement already satisfied: pyarrow!=4.0.0,>=3.0.0 in /usr/local/lib/python3.7/dist-packages (from datasets) (3.0.0)\n",
            "Requirement already satisfied: multiprocess in /usr/local/lib/python3.7/dist-packages (from datasets) (0.70.12.2)\n",
            "Requirement already satisfied: dill in /usr/local/lib/python3.7/dist-packages (from datasets) (0.3.4)\n",
            "Collecting aiohttp\n",
            "  Downloading aiohttp-3.8.1-cp37-cp37m-manylinux_2_5_x86_64.manylinux1_x86_64.manylinux_2_12_x86_64.manylinux2010_x86_64.whl (1.1 MB)\n",
            "\u001b[K     |████████████████████████████████| 1.1 MB 45.1 MB/s \n",
            "\u001b[?25hCollecting xxhash\n",
            "  Downloading xxhash-2.0.2-cp37-cp37m-manylinux2010_x86_64.whl (243 kB)\n",
            "\u001b[K     |████████████████████████████████| 243 kB 61.0 MB/s \n",
            "\u001b[?25hRequirement already satisfied: pandas in /usr/local/lib/python3.7/dist-packages (from datasets) (1.1.5)\n",
            "Collecting fsspec[http]>=2021.05.0\n",
            "  Downloading fsspec-2022.1.0-py3-none-any.whl (133 kB)\n",
            "\u001b[K     |████████████████████████████████| 133 kB 63.9 MB/s \n",
            "\u001b[?25hRequirement already satisfied: idna<3,>=2.5 in /usr/local/lib/python3.7/dist-packages (from requests->transformers) (2.10)\n",
            "Requirement already satisfied: chardet<4,>=3.0.2 in /usr/local/lib/python3.7/dist-packages (from requests->transformers) (3.0.4)\n",
            "Requirement already satisfied: certifi>=2017.4.17 in /usr/local/lib/python3.7/dist-packages (from requests->transformers) (2021.10.8)\n",
            "Requirement already satisfied: urllib3!=1.25.0,!=1.25.1,<1.26,>=1.21.1 in /usr/local/lib/python3.7/dist-packages (from requests->transformers) (1.24.3)\n",
            "Collecting async-timeout<5.0,>=4.0.0a3\n",
            "  Downloading async_timeout-4.0.2-py3-none-any.whl (5.8 kB)\n",
            "Collecting multidict<7.0,>=4.5\n",
            "  Downloading multidict-6.0.2-cp37-cp37m-manylinux_2_17_x86_64.manylinux2014_x86_64.whl (94 kB)\n",
            "\u001b[K     |████████████████████████████████| 94 kB 699 kB/s \n",
            "\u001b[?25hCollecting asynctest==0.13.0\n",
            "  Downloading asynctest-0.13.0-py3-none-any.whl (26 kB)\n",
            "Requirement already satisfied: charset-normalizer<3.0,>=2.0 in /usr/local/lib/python3.7/dist-packages (from aiohttp->datasets) (2.0.10)\n",
            "Collecting yarl<2.0,>=1.0\n",
            "  Downloading yarl-1.7.2-cp37-cp37m-manylinux_2_5_x86_64.manylinux1_x86_64.manylinux_2_12_x86_64.manylinux2010_x86_64.whl (271 kB)\n",
            "\u001b[K     |████████████████████████████████| 271 kB 54.3 MB/s \n",
            "\u001b[?25hCollecting frozenlist>=1.1.1\n",
            "  Downloading frozenlist-1.3.0-cp37-cp37m-manylinux_2_5_x86_64.manylinux1_x86_64.manylinux_2_17_x86_64.manylinux2014_x86_64.whl (144 kB)\n",
            "\u001b[K     |████████████████████████████████| 144 kB 61.2 MB/s \n",
            "\u001b[?25hRequirement already satisfied: attrs>=17.3.0 in /usr/local/lib/python3.7/dist-packages (from aiohttp->datasets) (21.4.0)\n",
            "Collecting aiosignal>=1.1.2\n",
            "  Downloading aiosignal-1.2.0-py3-none-any.whl (8.2 kB)\n",
            "Requirement already satisfied: zipp>=0.5 in /usr/local/lib/python3.7/dist-packages (from importlib-metadata->transformers) (3.7.0)\n",
            "Requirement already satisfied: python-dateutil>=2.7.3 in /usr/local/lib/python3.7/dist-packages (from pandas->datasets) (2.8.2)\n",
            "Requirement already satisfied: pytz>=2017.2 in /usr/local/lib/python3.7/dist-packages (from pandas->datasets) (2018.9)\n",
            "Requirement already satisfied: six>=1.5 in /usr/local/lib/python3.7/dist-packages (from python-dateutil>=2.7.3->pandas->datasets) (1.15.0)\n",
            "Requirement already satisfied: click in /usr/local/lib/python3.7/dist-packages (from sacremoses->transformers) (7.1.2)\n",
            "Requirement already satisfied: joblib in /usr/local/lib/python3.7/dist-packages (from sacremoses->transformers) (1.1.0)\n",
            "Installing collected packages: multidict, frozenlist, yarl, asynctest, async-timeout, aiosignal, pyyaml, fsspec, aiohttp, xxhash, tokenizers, sacremoses, huggingface-hub, transformers, datasets\n",
            "  Attempting uninstall: pyyaml\n",
            "    Found existing installation: PyYAML 3.13\n",
            "    Uninstalling PyYAML-3.13:\n",
            "      Successfully uninstalled PyYAML-3.13\n",
            "Successfully installed aiohttp-3.8.1 aiosignal-1.2.0 async-timeout-4.0.2 asynctest-0.13.0 datasets-1.18.1 frozenlist-1.3.0 fsspec-2022.1.0 huggingface-hub-0.4.0 multidict-6.0.2 pyyaml-6.0 sacremoses-0.0.47 tokenizers-0.10.3 transformers-4.15.0 xxhash-2.0.2 yarl-1.7.2\n",
            "Collecting git+https://github.com/huggingface/transformers.git\n",
            "  Cloning https://github.com/huggingface/transformers.git to /tmp/pip-req-build-x7k01g6w\n",
            "  Running command git clone -q https://github.com/huggingface/transformers.git /tmp/pip-req-build-x7k01g6w\n",
            "  Installing build dependencies ... \u001b[?25l\u001b[?25hdone\n",
            "  Getting requirements to build wheel ... \u001b[?25l\u001b[?25hdone\n",
            "    Preparing wheel metadata ... \u001b[?25l\u001b[?25hdone\n",
            "Requirement already satisfied: packaging>=20.0 in /usr/local/lib/python3.7/dist-packages (from transformers==4.16.0.dev0) (21.3)\n",
            "Requirement already satisfied: importlib-metadata in /usr/local/lib/python3.7/dist-packages (from transformers==4.16.0.dev0) (4.10.0)\n",
            "Requirement already satisfied: filelock in /usr/local/lib/python3.7/dist-packages (from transformers==4.16.0.dev0) (3.4.2)\n",
            "Requirement already satisfied: sacremoses in /usr/local/lib/python3.7/dist-packages (from transformers==4.16.0.dev0) (0.0.47)\n",
            "Requirement already satisfied: pyyaml>=5.1 in /usr/local/lib/python3.7/dist-packages (from transformers==4.16.0.dev0) (6.0)\n",
            "Requirement already satisfied: numpy>=1.17 in /usr/local/lib/python3.7/dist-packages (from transformers==4.16.0.dev0) (1.19.5)\n",
            "Requirement already satisfied: huggingface-hub<1.0,>=0.1.0 in /usr/local/lib/python3.7/dist-packages (from transformers==4.16.0.dev0) (0.4.0)\n",
            "Requirement already satisfied: tokenizers!=0.11.3,>=0.10.1 in /usr/local/lib/python3.7/dist-packages (from transformers==4.16.0.dev0) (0.10.3)\n",
            "Requirement already satisfied: tqdm>=4.27 in /usr/local/lib/python3.7/dist-packages (from transformers==4.16.0.dev0) (4.62.3)\n",
            "Requirement already satisfied: requests in /usr/local/lib/python3.7/dist-packages (from transformers==4.16.0.dev0) (2.23.0)\n",
            "Requirement already satisfied: regex!=2019.12.17 in /usr/local/lib/python3.7/dist-packages (from transformers==4.16.0.dev0) (2019.12.20)\n",
            "Requirement already satisfied: typing-extensions>=3.7.4.3 in /usr/local/lib/python3.7/dist-packages (from huggingface-hub<1.0,>=0.1.0->transformers==4.16.0.dev0) (3.10.0.2)\n",
            "Requirement already satisfied: pyparsing!=3.0.5,>=2.0.2 in /usr/local/lib/python3.7/dist-packages (from packaging>=20.0->transformers==4.16.0.dev0) (3.0.6)\n",
            "Requirement already satisfied: zipp>=0.5 in /usr/local/lib/python3.7/dist-packages (from importlib-metadata->transformers==4.16.0.dev0) (3.7.0)\n",
            "Requirement already satisfied: chardet<4,>=3.0.2 in /usr/local/lib/python3.7/dist-packages (from requests->transformers==4.16.0.dev0) (3.0.4)\n",
            "Requirement already satisfied: certifi>=2017.4.17 in /usr/local/lib/python3.7/dist-packages (from requests->transformers==4.16.0.dev0) (2021.10.8)\n",
            "Requirement already satisfied: urllib3!=1.25.0,!=1.25.1,<1.26,>=1.21.1 in /usr/local/lib/python3.7/dist-packages (from requests->transformers==4.16.0.dev0) (1.24.3)\n",
            "Requirement already satisfied: idna<3,>=2.5 in /usr/local/lib/python3.7/dist-packages (from requests->transformers==4.16.0.dev0) (2.10)\n",
            "Requirement already satisfied: six in /usr/local/lib/python3.7/dist-packages (from sacremoses->transformers==4.16.0.dev0) (1.15.0)\n",
            "Requirement already satisfied: click in /usr/local/lib/python3.7/dist-packages (from sacremoses->transformers==4.16.0.dev0) (7.1.2)\n",
            "Requirement already satisfied: joblib in /usr/local/lib/python3.7/dist-packages (from sacremoses->transformers==4.16.0.dev0) (1.1.0)\n",
            "Building wheels for collected packages: transformers\n",
            "  Building wheel for transformers (PEP 517) ... \u001b[?25l\u001b[?25hdone\n",
            "  Created wheel for transformers: filename=transformers-4.16.0.dev0-py3-none-any.whl size=3524925 sha256=225400b8192a9e0e0597d7759c579bdc864adbfbcfb83b988622be3094e5d854\n",
            "  Stored in directory: /tmp/pip-ephem-wheel-cache-ikniyssz/wheels/90/a5/44/6bcd83827c8a60628c5ad602f429cd5076bcce5f2a90054947\n",
            "Successfully built transformers\n",
            "Installing collected packages: transformers\n",
            "  Attempting uninstall: transformers\n",
            "    Found existing installation: transformers 4.15.0\n",
            "    Uninstalling transformers-4.15.0:\n",
            "      Successfully uninstalled transformers-4.15.0\n",
            "Successfully installed transformers-4.16.0.dev0\n"
          ]
        }
      ],
      "source": [
        "# Transformers installation\n",
        "! pip install transformers datasets\n",
        "# To install from source instead of the last release, comment the command above and uncomment the following one.\n",
        "! pip install git+https://github.com/huggingface/transformers.git"
      ]
    },
    {
      "cell_type": "code",
      "execution_count": 52,
      "metadata": {
        "id": "NStpJcim9eMa"
      },
      "outputs": [],
      "source": [
        "import pandas as pd\n",
        "import numpy as np\n",
        "import matplotlib.pyplot as plt\n",
        "\n",
        "import torch\n",
        "import torch.nn as nn"
      ]
    },
    {
      "cell_type": "code",
      "source": [
        "df_train=pd.read_csv(\"/content/drive/MyDrive/kaggle_Coronavirus tweets NLP - Text Classification/Corona_NLP_train.csv\",encoding=\"latin1\")\n",
        "df_test=pd.read_csv(\"/content/drive/MyDrive/kaggle_Coronavirus tweets NLP - Text Classification/Corona_NLP_test.csv\",encoding=\"latin1\")\n",
        "\n",
        "#Shuffle DataFrames\n",
        "df_train=df_train.sample(frac=1)\n",
        "df_test=df_test.sample(frac=1)"
      ],
      "metadata": {
        "id": "AiBRKB1--FUP"
      },
      "execution_count": 53,
      "outputs": []
    },
    {
      "cell_type": "code",
      "source": [
        "df_train.head()"
      ],
      "metadata": {
        "colab": {
          "base_uri": "https://localhost:8080/",
          "height": 206
        },
        "id": "njOzSjxR-hUD",
        "outputId": "fdaacd2c-24fa-4a2a-db41-537487904b2a"
      },
      "execution_count": 54,
      "outputs": [
        {
          "output_type": "execute_result",
          "data": {
            "text/html": [
              "\n",
              "  <div id=\"df-379b26d8-0005-45dc-ae32-d3970d7e50ae\">\n",
              "    <div class=\"colab-df-container\">\n",
              "      <div>\n",
              "<style scoped>\n",
              "    .dataframe tbody tr th:only-of-type {\n",
              "        vertical-align: middle;\n",
              "    }\n",
              "\n",
              "    .dataframe tbody tr th {\n",
              "        vertical-align: top;\n",
              "    }\n",
              "\n",
              "    .dataframe thead th {\n",
              "        text-align: right;\n",
              "    }\n",
              "</style>\n",
              "<table border=\"1\" class=\"dataframe\">\n",
              "  <thead>\n",
              "    <tr style=\"text-align: right;\">\n",
              "      <th></th>\n",
              "      <th>UserName</th>\n",
              "      <th>ScreenName</th>\n",
              "      <th>Location</th>\n",
              "      <th>TweetAt</th>\n",
              "      <th>OriginalTweet</th>\n",
              "      <th>Sentiment</th>\n",
              "    </tr>\n",
              "  </thead>\n",
              "  <tbody>\n",
              "    <tr>\n",
              "      <th>27748</th>\n",
              "      <td>31547</td>\n",
              "      <td>76499</td>\n",
              "      <td>Everywhere</td>\n",
              "      <td>03-04-2020</td>\n",
              "      <td>#coronavirus &amp;gt; #hospital workers, #security...</td>\n",
              "      <td>Positive</td>\n",
              "    </tr>\n",
              "    <tr>\n",
              "      <th>38559</th>\n",
              "      <td>42358</td>\n",
              "      <td>87310</td>\n",
              "      <td>West Hartford, CT</td>\n",
              "      <td>11-04-2020</td>\n",
              "      <td>@ABC Social Distancing at a grocery store in C...</td>\n",
              "      <td>Neutral</td>\n",
              "    </tr>\n",
              "    <tr>\n",
              "      <th>7725</th>\n",
              "      <td>11524</td>\n",
              "      <td>56476</td>\n",
              "      <td>NaN</td>\n",
              "      <td>19-03-2020</td>\n",
              "      <td>@balboanorth Was thinking the same. Maybe take...</td>\n",
              "      <td>Negative</td>\n",
              "    </tr>\n",
              "    <tr>\n",
              "      <th>40935</th>\n",
              "      <td>44734</td>\n",
              "      <td>89686</td>\n",
              "      <td>Tallahassee, FL.</td>\n",
              "      <td>14-04-2020</td>\n",
              "      <td>Despite the current economic slowdown caused b...</td>\n",
              "      <td>Extremely Positive</td>\n",
              "    </tr>\n",
              "    <tr>\n",
              "      <th>24997</th>\n",
              "      <td>28796</td>\n",
              "      <td>73748</td>\n",
              "      <td>Shelton CT</td>\n",
              "      <td>29-03-2020</td>\n",
              "      <td>A thank you to our unsung heroes the grocery s...</td>\n",
              "      <td>Extremely Positive</td>\n",
              "    </tr>\n",
              "  </tbody>\n",
              "</table>\n",
              "</div>\n",
              "      <button class=\"colab-df-convert\" onclick=\"convertToInteractive('df-379b26d8-0005-45dc-ae32-d3970d7e50ae')\"\n",
              "              title=\"Convert this dataframe to an interactive table.\"\n",
              "              style=\"display:none;\">\n",
              "        \n",
              "  <svg xmlns=\"http://www.w3.org/2000/svg\" height=\"24px\"viewBox=\"0 0 24 24\"\n",
              "       width=\"24px\">\n",
              "    <path d=\"M0 0h24v24H0V0z\" fill=\"none\"/>\n",
              "    <path d=\"M18.56 5.44l.94 2.06.94-2.06 2.06-.94-2.06-.94-.94-2.06-.94 2.06-2.06.94zm-11 1L8.5 8.5l.94-2.06 2.06-.94-2.06-.94L8.5 2.5l-.94 2.06-2.06.94zm10 10l.94 2.06.94-2.06 2.06-.94-2.06-.94-.94-2.06-.94 2.06-2.06.94z\"/><path d=\"M17.41 7.96l-1.37-1.37c-.4-.4-.92-.59-1.43-.59-.52 0-1.04.2-1.43.59L10.3 9.45l-7.72 7.72c-.78.78-.78 2.05 0 2.83L4 21.41c.39.39.9.59 1.41.59.51 0 1.02-.2 1.41-.59l7.78-7.78 2.81-2.81c.8-.78.8-2.07 0-2.86zM5.41 20L4 18.59l7.72-7.72 1.47 1.35L5.41 20z\"/>\n",
              "  </svg>\n",
              "      </button>\n",
              "      \n",
              "  <style>\n",
              "    .colab-df-container {\n",
              "      display:flex;\n",
              "      flex-wrap:wrap;\n",
              "      gap: 12px;\n",
              "    }\n",
              "\n",
              "    .colab-df-convert {\n",
              "      background-color: #E8F0FE;\n",
              "      border: none;\n",
              "      border-radius: 50%;\n",
              "      cursor: pointer;\n",
              "      display: none;\n",
              "      fill: #1967D2;\n",
              "      height: 32px;\n",
              "      padding: 0 0 0 0;\n",
              "      width: 32px;\n",
              "    }\n",
              "\n",
              "    .colab-df-convert:hover {\n",
              "      background-color: #E2EBFA;\n",
              "      box-shadow: 0px 1px 2px rgba(60, 64, 67, 0.3), 0px 1px 3px 1px rgba(60, 64, 67, 0.15);\n",
              "      fill: #174EA6;\n",
              "    }\n",
              "\n",
              "    [theme=dark] .colab-df-convert {\n",
              "      background-color: #3B4455;\n",
              "      fill: #D2E3FC;\n",
              "    }\n",
              "\n",
              "    [theme=dark] .colab-df-convert:hover {\n",
              "      background-color: #434B5C;\n",
              "      box-shadow: 0px 1px 3px 1px rgba(0, 0, 0, 0.15);\n",
              "      filter: drop-shadow(0px 1px 2px rgba(0, 0, 0, 0.3));\n",
              "      fill: #FFFFFF;\n",
              "    }\n",
              "  </style>\n",
              "\n",
              "      <script>\n",
              "        const buttonEl =\n",
              "          document.querySelector('#df-379b26d8-0005-45dc-ae32-d3970d7e50ae button.colab-df-convert');\n",
              "        buttonEl.style.display =\n",
              "          google.colab.kernel.accessAllowed ? 'block' : 'none';\n",
              "\n",
              "        async function convertToInteractive(key) {\n",
              "          const element = document.querySelector('#df-379b26d8-0005-45dc-ae32-d3970d7e50ae');\n",
              "          const dataTable =\n",
              "            await google.colab.kernel.invokeFunction('convertToInteractive',\n",
              "                                                     [key], {});\n",
              "          if (!dataTable) return;\n",
              "\n",
              "          const docLinkHtml = 'Like what you see? Visit the ' +\n",
              "            '<a target=\"_blank\" href=https://colab.research.google.com/notebooks/data_table.ipynb>data table notebook</a>'\n",
              "            + ' to learn more about interactive tables.';\n",
              "          element.innerHTML = '';\n",
              "          dataTable['output_type'] = 'display_data';\n",
              "          await google.colab.output.renderOutput(dataTable, element);\n",
              "          const docLink = document.createElement('div');\n",
              "          docLink.innerHTML = docLinkHtml;\n",
              "          element.appendChild(docLink);\n",
              "        }\n",
              "      </script>\n",
              "    </div>\n",
              "  </div>\n",
              "  "
            ],
            "text/plain": [
              "       UserName  ...           Sentiment\n",
              "27748     31547  ...            Positive\n",
              "38559     42358  ...             Neutral\n",
              "7725      11524  ...            Negative\n",
              "40935     44734  ...  Extremely Positive\n",
              "24997     28796  ...  Extremely Positive\n",
              "\n",
              "[5 rows x 6 columns]"
            ]
          },
          "metadata": {},
          "execution_count": 54
        }
      ]
    },
    {
      "cell_type": "code",
      "source": [
        "from transformers import RobertaTokenizer\n",
        "tokenizer=RobertaTokenizer.from_pretrained(\"roberta-base\")\n",
        "\n",
        "def token_counter(text,tokenizer):\n",
        "  return len(tokenizer.encode(text))\n",
        "  #return len(tokenizer.encode(line) for line in text)\n",
        "  #下面可以用map不\n",
        "tok_len=df_train[\"OriginalTweet\"].apply(lambda x:token_counter(x,tokenizer))\n",
        "max(list(tok_len))\n",
        "\n",
        "#The longest tweet contains 184 tokens,we don't have to use padding uo to the 512th token.\n",
        "#We will stop at 200 to reduce the size of the tensors handled"
      ],
      "metadata": {
        "colab": {
          "base_uri": "https://localhost:8080/"
        },
        "id": "QEezjuJn-vEa",
        "outputId": "b3b4b77f-0aa5-4f88-e4ca-3f0ae9f10e47"
      },
      "execution_count": 55,
      "outputs": [
        {
          "output_type": "execute_result",
          "data": {
            "text/plain": [
              "184"
            ]
          },
          "metadata": {},
          "execution_count": 55
        }
      ]
    },
    {
      "cell_type": "code",
      "source": [
        "tokenizer.model_max_length=200"
      ],
      "metadata": {
        "id": "geitWOQq_pDX"
      },
      "execution_count": 56,
      "outputs": []
    },
    {
      "cell_type": "markdown",
      "source": [
        "## Data analysis"
      ],
      "metadata": {
        "id": "QXoG_DmsBmla"
      }
    },
    {
      "cell_type": "code",
      "source": [
        "print(\"The training dataframe contains {} Tweets\".format(len(df_train)))\n",
        "\n",
        "print(\"The testing dataframe contains {} Tweets\".format(len(df_test)))"
      ],
      "metadata": {
        "colab": {
          "base_uri": "https://localhost:8080/"
        },
        "id": "5iSfuo-3Bl8m",
        "outputId": "e2a909ef-e495-45ff-d48a-40e0177e5e27"
      },
      "execution_count": 57,
      "outputs": [
        {
          "output_type": "stream",
          "name": "stdout",
          "text": [
            "The training dataframe contains 41157 Tweets\n",
            "The testing dataframe contains 3798 Tweets\n"
          ]
        }
      ]
    },
    {
      "cell_type": "code",
      "source": [
        "df_train[\"Sentiment\"].value_counts().loc[[\"Extremely Negative\",\"Negative\",\"Neutral\",\"Positive\",\"Extremely Positive\"]].plot(kind=\"bar\")"
      ],
      "metadata": {
        "colab": {
          "base_uri": "https://localhost:8080/",
          "height": 372
        },
        "id": "r4xFRXz-B53b",
        "outputId": "881fe407-c4e6-41b6-e43e-faa322fcda8c"
      },
      "execution_count": 58,
      "outputs": [
        {
          "output_type": "execute_result",
          "data": {
            "text/plain": [
              "<matplotlib.axes._subplots.AxesSubplot at 0x7f990430f690>"
            ]
          },
          "metadata": {},
          "execution_count": 58
        },
        {
          "output_type": "display_data",
          "data": {
            "image/png": "[encoded data removed]",
            "text/plain": [
              "<Figure size 432x288 with 1 Axes>"
            ]
          },
          "metadata": {
            "needs_background": "light"
          }
        }
      ]
    },
    {
      "cell_type": "markdown",
      "source": [
        "the dataset is well balanced between categories"
      ],
      "metadata": {
        "id": "hQBFTE6XC3my"
      }
    },
    {
      "cell_type": "markdown",
      "source": [
        "## Processing the text"
      ],
      "metadata": {
        "id": "mjU9KknFDCQZ"
      }
    },
    {
      "cell_type": "code",
      "source": [
        "import re\n",
        "def remove_links(text):\n",
        "  to_remove=[\"\\r\",\"\\n\",\",\",\";\",\":\",\".\"]\n",
        "\n",
        "  out=re.sub(r'http\\S+', '', text)\n",
        "\n",
        "  for token in to_remove:\n",
        "    out=out.replace(token,'')\n",
        "\n",
        "  return re.sub(' +',' ', out.lower())#Remove duplicate spaces"
      ],
      "metadata": {
        "id": "0dh6QsCGCvwU"
      },
      "execution_count": 59,
      "outputs": []
    },
    {
      "cell_type": "code",
      "source": [
        "def tokenize(text,tokenizer):\n",
        "  return tokenizer.encode(text,padding='max_length')\n",
        "\n",
        "name_to_idx={\n",
        "    \"Extremely Negative\":0,\n",
        "    \"Negative\":1,\n",
        "    \"Neutral\":2,\n",
        "    \"Positive\":3,\n",
        "    \"Extremely Positive\":4\n",
        "}\n",
        "def process_tgt(value):\n",
        "  return name_to_idx[value]"
      ],
      "metadata": {
        "id": "MHMcBR8-D2vx"
      },
      "execution_count": 60,
      "outputs": []
    },
    {
      "cell_type": "code",
      "source": [
        "train_text=list(df_train[\"OriginalTweet\"].apply(remove_links).apply(lambda x:tokenize(x,tokenizer)))\n",
        "train_labels=list(df_train[\"Sentiment\"].apply(process_tgt))\n",
        "\n",
        "test_text=list(df_test[\"OriginalTweet\"].apply(remove_links).apply(lambda x:tokenize(x,tokenizer)))\n",
        "test_labels=list(df_test[\"Sentiment\"].apply(process_tgt))"
      ],
      "metadata": {
        "id": "hq0UHMUxFAXk"
      },
      "execution_count": 61,
      "outputs": []
    },
    {
      "cell_type": "code",
      "source": [
        "from torch.utils.data import Dataset\n",
        "\n",
        "class CreateDataset(Dataset):\n",
        "    \n",
        "    def __init__(self, data, labels):\n",
        "        super().__init__()\n",
        "        self.data = data\n",
        "        self.labels = labels\n",
        "        \n",
        "        \n",
        "    def __getitem__(self, idx):\n",
        "        return torch.tensor(self.data[idx]), torch.tensor(self.labels[idx])\n",
        "    \n",
        "    def __len__(self):\n",
        "        return len(self.labels)\n",
        "\n",
        "train_dataset = CreateDataset(train_text, train_labels)\n",
        "test_dataset = CreateDataset(test_text, test_labels)\n"
      ],
      "metadata": {
        "id": "osd0atLkHSLi"
      },
      "execution_count": 62,
      "outputs": []
    },
    {
      "cell_type": "code",
      "source": [
        "len(train_dataset),len(test_dataset)"
      ],
      "metadata": {
        "colab": {
          "base_uri": "https://localhost:8080/"
        },
        "id": "rXqzVry7JdUA",
        "outputId": "c27d2d28-b76f-4f7a-f52b-7e241c0e0836"
      },
      "execution_count": 63,
      "outputs": [
        {
          "output_type": "execute_result",
          "data": {
            "text/plain": [
              "(41157, 3798)"
            ]
          },
          "metadata": {},
          "execution_count": 63
        }
      ]
    },
    {
      "cell_type": "code",
      "source": [
        "from torch.utils.data import DataLoader\n",
        "\n",
        "train_loader=DataLoader(train_dataset,batch_size=32)\n",
        "test_loader=DataLoader(test_dataset,batch_size=32)"
      ],
      "metadata": {
        "id": "bwuAxJYAJhl-"
      },
      "execution_count": 64,
      "outputs": []
    },
    {
      "cell_type": "markdown",
      "source": [
        "## Create the Model"
      ],
      "metadata": {
        "id": "1549ssBOLDLj"
      }
    },
    {
      "cell_type": "code",
      "source": [
        "class LSTMModel(nn.Module):\n",
        "    \n",
        "    def __init__(self, vocab_size, embedding_dim, hidden_size, num_layers, dropout):\n",
        "        super().__init__()\n",
        "        self.embedding = nn.Embedding(vocab_size, embedding_dim)\n",
        "        self.lstm = nn.LSTM(input_size = embedding_dim, \n",
        "                            hidden_size = hidden_size, \n",
        "                            num_layers = num_layers,\n",
        "                            dropout = dropout,\n",
        "                            batch_first = True,\n",
        "                            bidirectional = True)\n",
        "        self.linear = nn.Linear(512*200, 5)\n",
        "        \n",
        "    def forward(self, inputs):\n",
        "        emb = self.embedding(inputs)\n",
        "        lstm_out, _ = self.lstm(emb)\n",
        "        \n",
        "        output = self.linear(lstm_out.reshape(lstm_out.size()[0], -1))\n",
        "        \n",
        "        return output\n",
        "    \n",
        "model = LSTMModel(tokenizer.vocab_size, 256, 256, 4, 0.2)\n"
      ],
      "metadata": {
        "id": "oELTJG16LAM3"
      },
      "execution_count": 65,
      "outputs": []
    },
    {
      "cell_type": "markdown",
      "source": [
        "Train the Model"
      ],
      "metadata": {
        "id": "PSftPeikOKls"
      }
    },
    {
      "cell_type": "code",
      "source": [
        "from tqdm import tqdm\n",
        "\n",
        "class Trainer():\n",
        "    \n",
        "    def __init__(self, model, train_loader, valid_loader):\n",
        "        \n",
        "        self.model = model\n",
        "        self.train_loader = train_loader\n",
        "        self.valid_loader = valid_loader\n",
        "\n",
        "    def train_epoch(self, f_loss, optimizer, device):\n",
        "\n",
        "        # We enter train mode. This is useless for the linear model\n",
        "        # but is important for layers such as dropout, batchnorm, ...\n",
        "        self.model.train()\n",
        "\n",
        "        correct = 0\n",
        "        tot_loss = 0\n",
        "        N = 41157 # Dataset length\n",
        "\n",
        "        # iterator = tqdm(enumerate(self.train_loader))\n",
        "        iterator = enumerate(self.train_loader)\n",
        "\n",
        "        for i, (inputs, targets) in iterator:\n",
        "            inputs, targets = inputs.to(device), targets.to(device)\n",
        "\n",
        "            # Compute the forward pass through the network up to the loss\n",
        "            outputs = self.model(inputs)\n",
        "\n",
        "            loss = f_loss(outputs, targets)\n",
        "\n",
        "            loss_value = loss.item()\n",
        "\n",
        "            # Backward and optimize\n",
        "\n",
        "            loss.backward()\n",
        "            optimizer.step()\n",
        "            optimizer.zero_grad()\n",
        "\n",
        "            tot_loss += inputs.shape[0] * loss_value\n",
        "\n",
        "            predicted_targets = outputs.argmax(dim=1)\n",
        "            correct += (predicted_targets == targets).sum().item()\n",
        "\n",
        "            #iterator.set_description(\"loss : {: .3f} | accuracy : {: .3f}\".format(tot_loss/(inputs.shape[0]*(i+1)), correct/(inputs.shape[0]*(i+1))))\n",
        "\n",
        "        return tot_loss/N, correct/N\n",
        "\n",
        "    def valid_epoch(self, f_loss, device):\n",
        "        # We enter train mode. This is useless for the linear model\n",
        "        # but is important for layers such as dropout, batchnorm, ...\n",
        "        self.model.eval()\n",
        "\n",
        "        correct = 0\n",
        "        tot_loss = 0\n",
        "        N = 3798 # Dataset length\n",
        "\n",
        "        # iterator = tqdm(enumerate(self.valid_loader))\n",
        "        iterator = enumerate(self.valid_loader)\n",
        "\n",
        "        with torch.no_grad():\n",
        "            for i, (inputs, targets) in iterator:\n",
        "                inputs, targets = inputs.to(device), targets.to(device)\n",
        "\n",
        "                # Compute the forward pass through the network up to the loss\n",
        "                outputs = self.model(inputs)\n",
        "\n",
        "                loss = f_loss(outputs, targets)\n",
        "\n",
        "                tot_loss += inputs.shape[0] * loss.item()\n",
        "\n",
        "                predicted_targets = outputs.argmax(dim=1)\n",
        "                correct += (predicted_targets == targets).sum().item()\n",
        "\n",
        "                # iterator.set_description(\"loss : {: .3f} | accuracy : {: .3f}\".format(tot_loss/(inputs.shape[0]*(i+1)), correct/(inputs.shape[0]*(i+1))))\n",
        "\n",
        "        return tot_loss/N, correct/N\n",
        "\n",
        "    def training(self, f_loss, optimizer, device, epochs = 10):\n",
        "\n",
        "        train_loss = []\n",
        "        train_acc = []\n",
        "        valid_loss = []\n",
        "        valid_acc = []\n",
        "\n",
        "        for i in range(epochs):\n",
        "            print(\"EPOCH {}/{}\".format(i + 1, epochs))\n",
        "            train_results = self.train_epoch(f_loss, optimizer, device)\n",
        "            print(\"Training loss : {: .3f} | Training accuracy : {: .3f}\".format(*train_results))\n",
        "            valid_results = self.valid_epoch(f_loss, device)\n",
        "            print(\"Validation loss : {: .3f} | Validation accuracy : {: .3f}\\n\".format(*valid_results))\n",
        "\n",
        "            train_loss.append(train_results[0])\n",
        "            train_acc.append(train_results[1])\n",
        "            valid_loss.append(valid_results[0])\n",
        "            valid_acc.append(valid_results[1])\n",
        "\n",
        "        return train_loss, train_acc, valid_loss, valid_acc"
      ],
      "metadata": {
        "id": "qdkSsvn7NcnX"
      },
      "execution_count": 66,
      "outputs": []
    },
    {
      "cell_type": "code",
      "source": [
        "device=torch.device('cuda')\n",
        "model=model.cuda()"
      ],
      "metadata": {
        "id": "-G4ZkAIcON7N"
      },
      "execution_count": 67,
      "outputs": []
    },
    {
      "cell_type": "code",
      "source": [
        "f_loss=torch.nn.CrossEntropyLoss()\n",
        "optimizer=torch.optim.Adam(model.parameters())"
      ],
      "metadata": {
        "id": "iSz69z71SEXp"
      },
      "execution_count": 68,
      "outputs": []
    },
    {
      "cell_type": "code",
      "source": [
        "trainer=Trainer(model,train_loader,test_loader)\n",
        "\n",
        "train_loss,train_acc,valid_loss,valid_acc=trainer.training(f_loss,optimizer,device,epochs=8)"
      ],
      "metadata": {
        "colab": {
          "base_uri": "https://localhost:8080/"
        },
        "id": "le9mjS7sSO97",
        "outputId": "3562a362-3a13-4cfe-bd90-d4c411dd2fcd"
      },
      "execution_count": 69,
      "outputs": [
        {
          "output_type": "stream",
          "name": "stdout",
          "text": [
            "EPOCH 1/8\n",
            "Training loss :  1.211 | Training accuracy :  0.491\n",
            "Validation loss :  0.985 | Validation accuracy :  0.627\n",
            "\n",
            "EPOCH 2/8\n",
            "Training loss :  0.750 | Training accuracy :  0.721\n",
            "Validation loss :  0.799 | Validation accuracy :  0.718\n",
            "\n",
            "EPOCH 3/8\n",
            "Training loss :  0.485 | Training accuracy :  0.829\n",
            "Validation loss :  0.793 | Validation accuracy :  0.737\n",
            "\n",
            "EPOCH 4/8\n",
            "Training loss :  0.325 | Training accuracy :  0.891\n",
            "Validation loss :  0.903 | Validation accuracy :  0.730\n",
            "\n",
            "EPOCH 5/8\n",
            "Training loss :  0.225 | Training accuracy :  0.924\n",
            "Validation loss :  0.982 | Validation accuracy :  0.746\n",
            "\n",
            "EPOCH 6/8\n",
            "Training loss :  0.155 | Training accuracy :  0.948\n",
            "Validation loss :  1.073 | Validation accuracy :  0.754\n",
            "\n",
            "EPOCH 7/8\n",
            "Training loss :  0.114 | Training accuracy :  0.963\n",
            "Validation loss :  1.242 | Validation accuracy :  0.752\n",
            "\n",
            "EPOCH 8/8\n",
            "Training loss :  0.088 | Training accuracy :  0.971\n",
            "Validation loss :  1.282 | Validation accuracy :  0.755\n",
            "\n"
          ]
        }
      ]
    },
    {
      "cell_type": "code",
      "source": [
        "plt.plot(train_loss,label=\"train set\")\n",
        "plt.plot(valid_loss,label=\"valid set\")\n",
        "plt.legend()\n",
        "plt.title(\"Loss of the model during training\")\n",
        "plt.show()\n",
        "\n",
        "plt.plot(train_acc,label=\"train set\")\n",
        "plt.plot(valid_acc,label=\"valid set\")\n",
        "plt.legend()\n",
        "plt.title(\"Accuracy of the model during training\")\n",
        "plt.show()"
      ],
      "metadata": {
        "colab": {
          "base_uri": "https://localhost:8080/",
          "height": 545
        },
        "id": "M13xlelISZYE",
        "outputId": "d0b21bab-2e68-40c5-a746-8cd34af6c480"
      },
      "execution_count": 70,
      "outputs": [
        {
          "output_type": "display_data",
          "data": {
            "image/png": "[encoded data removed]",
            "text/plain": [
              "<Figure size 432x288 with 1 Axes>"
            ]
          },
          "metadata": {
            "needs_background": "light"
          }
        },
        {
          "output_type": "display_data",
          "data": {
            "image/png": "[encoded data removed]",
            "text/plain": [
              "<Figure size 432x288 with 1 Axes>"
            ]
          },
          "metadata": {
            "needs_background": "light"
          }
        }
      ]
    },
    {
      "cell_type": "code",
      "source": [
        ""
      ],
      "metadata": {
        "id": "6yQi0oiiW25D"
      },
      "execution_count": null,
      "outputs": []
    },
    {
      "cell_type": "code",
      "source": [
        ""
      ],
      "metadata": {
        "id": "RiCsz8A4WdC6"
      },
      "execution_count": null,
      "outputs": []
    }
  ],
  "metadata": {
    "accelerator": "GPU",
    "colab": {
      "machine_shape": "hm",
      "name": "Pytorch LSTM Classification on Covid tweets.ipynb",
      "provenance": [],
      "collapsed_sections": [],
      "mount_file_id": "1LJ4wjplxOVtQMcy98uhnQrYNn3h600xX",
      "authorship_tag": "ABX9TyO9K8lfS8IBu1WJFYJvcfs4",
      "include_colab_link": true
    },
    "kernelspec": {
      "display_name": "Python 3",
      "name": "python3"
    },
    "language_info": {
      "name": "python"
    }
  },
  "nbformat": 4,
  "nbformat_minor": 0
}